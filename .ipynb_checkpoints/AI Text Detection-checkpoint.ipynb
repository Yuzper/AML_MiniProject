{
 "cells": [
  {
   "cell_type": "code",
   "execution_count": 6,
   "id": "81b61c49-6a02-4cb0-bc98-d8047c811f39",
   "metadata": {},
   "outputs": [],
   "source": [
    "import numpy as np\n",
    "import pandas as pd\n",
    "import matplotlib.pyplot as plt\n",
    "import random\n",
    "import sklearn\n",
    "from sklearn.utils import check_random_state\n",
    "import tensorflow as tf"
   ]
  },
  {
   "cell_type": "code",
   "execution_count": 10,
   "id": "bb52b26c-4d94-4225-a759-75f34a70c7f4",
   "metadata": {},
   "outputs": [],
   "source": [
    "# Set random states for reproducability\n",
    "RandomState = 42\n",
    "random.seed(RandomState)\n",
    "np.random.seed(RandomState)\n",
    "skl_rand = check_random_state(RandomState)\n",
    "tf.random.set_seed(RandomState)\n"
   ]
  },
  {
   "cell_type": "markdown",
   "id": "9186ad94-a09a-473a-816a-eed71cbef135",
   "metadata": {},
   "source": [
    "TO DO:\n",
    "- Dataset Loading/Choosing ✅\n",
    "- Dataset Cleaning\n",
    "- Exploratory Data Analysis\n",
    "- Baseline (TBD)\n",
    "- BERT fine-tuning to classify text\n",
    "- Error Analysis / Robustness Testing"
   ]
  },
  {
   "cell_type": "markdown",
   "id": "d0b940e4-3dec-4b17-85f0-1640aa493b87",
   "metadata": {},
   "source": [
    "# Dataset Loading/Choosing"
   ]
  },
  {
   "cell_type": "markdown",
   "id": "bfe024d4-b838-464c-9534-e1f50d100ead",
   "metadata": {},
   "source": [
    "- LLM - Detect AI Generated Text Dataset (28k essays)\n",
    "https://www.kaggle.com/datasets/sunilthite/llm-detect-ai-generated-text-dataset.\n",
    "- Dataset Card for AI Text Dectection Pile (1.4mil essays)\n",
    "https://huggingface.co/datasets/artem9k/ai-text-detection-pile\n",
    "- Raid (10+mil essays from 10 genres) https://github.com/liamdugan/raid"
   ]
  },
  {
   "cell_type": "markdown",
   "id": "14b977d1-2d8e-4d03-97da-a57ae83965e2",
   "metadata": {},
   "source": [
    "# Dataset Cleaning"
   ]
  },
  {
   "cell_type": "markdown",
   "id": "50c3e571-6241-4044-bb03-1a97bd5e03d0",
   "metadata": {},
   "source": [
    "- Lowercasing (optional with BERT since it's often case-aware depending on the model)\n",
    "- Removing HTML tags, extra spaces\n",
    "- Filtering by length (exclude very short texts)\n",
    "- Removing duplicates\n",
    "- Language detection if you need only English\n",
    "- Where possible tag which model AI text is from"
   ]
  },
  {
   "cell_type": "code",
   "execution_count": 20,
   "id": "35f0834a-d1aa-466f-9d6a-56a225e6dc9e",
   "metadata": {},
   "outputs": [
    {
     "data": {
      "application/vnd.jupyter.widget-view+json": {
       "model_id": "b82275656c6242d09f369e797d627a11",
       "version_major": 2,
       "version_minor": 0
      },
      "text/plain": [
       "README.md:   0%|          | 0.00/3.66k [00:00<?, ?B/s]"
      ]
     },
     "metadata": {},
     "output_type": "display_data"
    },
    {
     "name": "stderr",
     "output_type": "stream",
     "text": [
      "C:\\Users\\Jespe\\anaconda3\\Lib\\site-packages\\huggingface_hub\\file_download.py:144: UserWarning: `huggingface_hub` cache-system uses symlinks by default to efficiently store duplicated files but your machine does not support them in C:\\Users\\Jespe\\.cache\\huggingface\\hub\\datasets--liamdugan--raid. Caching files will still work but in a degraded version that might require more space on your disk. This warning can be disabled by setting the `HF_HUB_DISABLE_SYMLINKS_WARNING` environment variable. For more details, see https://huggingface.co/docs/huggingface_hub/how-to-cache#limitations.\n",
      "To support symlinks on Windows, you either need to activate Developer Mode or to run Python as an administrator. In order to activate developer mode, see this article: https://docs.microsoft.com/en-us/windows/apps/get-started/enable-your-device-for-development\n",
      "  warnings.warn(message)\n"
     ]
    },
    {
     "data": {
      "application/vnd.jupyter.widget-view+json": {
       "model_id": "c56c6ae2e48c4e59a862672792c8ae82",
       "version_major": 2,
       "version_minor": 0
      },
      "text/plain": [
       "train.csv:   0%|          | 0.00/11.8G [00:00<?, ?B/s]"
      ]
     },
     "metadata": {},
     "output_type": "display_data"
    },
    {
     "data": {
      "application/vnd.jupyter.widget-view+json": {
       "model_id": "ea142194a62f41b7be8c33d5663e9353",
       "version_major": 2,
       "version_minor": 0
      },
      "text/plain": [
       "extra.csv:   0%|          | 0.00/3.71G [00:00<?, ?B/s]"
      ]
     },
     "metadata": {},
     "output_type": "display_data"
    },
    {
     "data": {
      "application/vnd.jupyter.widget-view+json": {
       "model_id": "2ff1fb364f5f4aa7b2e8943995748a45",
       "version_major": 2,
       "version_minor": 0
      },
      "text/plain": [
       "Generating train split: 0 examples [00:00, ? examples/s]"
      ]
     },
     "metadata": {},
     "output_type": "display_data"
    },
    {
     "data": {
      "application/vnd.jupyter.widget-view+json": {
       "model_id": "c2d268bb40aa4abb9fdd35bc9d54070e",
       "version_major": 2,
       "version_minor": 0
      },
      "text/plain": [
       "Generating extra split: 0 examples [00:00, ? examples/s]"
      ]
     },
     "metadata": {},
     "output_type": "display_data"
    },
    {
     "data": {
      "application/vnd.jupyter.widget-view+json": {
       "model_id": "62e7e744de814c559eb1a88b6699edfc",
       "version_major": 2,
       "version_minor": 0
      },
      "text/plain": [
       "Loading dataset shards:   0%|          | 0/24 [00:00<?, ?it/s]"
      ]
     },
     "metadata": {},
     "output_type": "display_data"
    }
   ],
   "source": [
    "from datasets import load_dataset\n",
    "ds = load_dataset(\"liamdugan/raid\", \"raid\")"
   ]
  },
  {
   "cell_type": "code",
   "execution_count": 26,
   "id": "94bdd321-7967-43c1-a2e6-bd7de15b832b",
   "metadata": {},
   "outputs": [],
   "source": [
    "len(ds[\"train\"])\n",
    "data = ds[\"train\"]"
   ]
  },
  {
   "cell_type": "code",
   "execution_count": 36,
   "id": "b77f9709-9d01-499f-869b-5dcc91752ed5",
   "metadata": {},
   "outputs": [
    {
     "data": {
      "text/plain": [
       "{'id': Value(dtype='string', id=None),\n",
       " 'adv_source_id': Value(dtype='string', id=None),\n",
       " 'source_id': Value(dtype='string', id=None),\n",
       " 'model': Value(dtype='string', id=None),\n",
       " 'decoding': Value(dtype='string', id=None),\n",
       " 'repetition_penalty': Value(dtype='string', id=None),\n",
       " 'attack': Value(dtype='string', id=None),\n",
       " 'domain': Value(dtype='string', id=None),\n",
       " 'title': Value(dtype='string', id=None),\n",
       " 'prompt': Value(dtype='string', id=None),\n",
       " 'generation': Value(dtype='string', id=None)}"
      ]
     },
     "execution_count": 36,
     "metadata": {},
     "output_type": "execute_result"
    }
   ],
   "source": [
    "data.features"
   ]
  },
  {
   "cell_type": "code",
   "execution_count": 54,
   "id": "d6ae3407-6986-437f-bfdb-3a7062ce3e3d",
   "metadata": {},
   "outputs": [
    {
     "data": {
      "text/html": [
       "<div>\n",
       "<style scoped>\n",
       "    .dataframe tbody tr th:only-of-type {\n",
       "        vertical-align: middle;\n",
       "    }\n",
       "\n",
       "    .dataframe tbody tr th {\n",
       "        vertical-align: top;\n",
       "    }\n",
       "\n",
       "    .dataframe thead th {\n",
       "        text-align: right;\n",
       "    }\n",
       "</style>\n",
       "<table border=\"1\" class=\"dataframe\">\n",
       "  <thead>\n",
       "    <tr style=\"text-align: right;\">\n",
       "      <th></th>\n",
       "      <th>id</th>\n",
       "      <th>adv_source_id</th>\n",
       "      <th>source_id</th>\n",
       "      <th>model</th>\n",
       "      <th>decoding</th>\n",
       "      <th>repetition_penalty</th>\n",
       "      <th>attack</th>\n",
       "      <th>domain</th>\n",
       "      <th>title</th>\n",
       "      <th>prompt</th>\n",
       "    </tr>\n",
       "  </thead>\n",
       "  <tbody>\n",
       "    <tr>\n",
       "      <th>0</th>\n",
       "      <td>e5e058ce-be2b-459d-af36-32532aaba5ff</td>\n",
       "      <td>e5e058ce-be2b-459d-af36-32532aaba5ff</td>\n",
       "      <td>e5e058ce-be2b-459d-af36-32532aaba5ff</td>\n",
       "      <td>human</td>\n",
       "      <td>None</td>\n",
       "      <td>None</td>\n",
       "      <td>none</td>\n",
       "      <td>abstracts</td>\n",
       "      <td>FUTURE-AI: Guiding Principles and Consensus Re...</td>\n",
       "      <td>None</td>\n",
       "    </tr>\n",
       "    <tr>\n",
       "      <th>1</th>\n",
       "      <td>f95b107b-d176-4af5-90f7-4d0bb20caf93</td>\n",
       "      <td>f95b107b-d176-4af5-90f7-4d0bb20caf93</td>\n",
       "      <td>f95b107b-d176-4af5-90f7-4d0bb20caf93</td>\n",
       "      <td>human</td>\n",
       "      <td>None</td>\n",
       "      <td>None</td>\n",
       "      <td>none</td>\n",
       "      <td>abstracts</td>\n",
       "      <td>EdgeFlow: Achieving Practical Interactive Segm...</td>\n",
       "      <td>None</td>\n",
       "    </tr>\n",
       "    <tr>\n",
       "      <th>2</th>\n",
       "      <td>856d8972-9e3d-4544-babc-0fe16f21e04d</td>\n",
       "      <td>856d8972-9e3d-4544-babc-0fe16f21e04d</td>\n",
       "      <td>856d8972-9e3d-4544-babc-0fe16f21e04d</td>\n",
       "      <td>human</td>\n",
       "      <td>None</td>\n",
       "      <td>None</td>\n",
       "      <td>none</td>\n",
       "      <td>abstracts</td>\n",
       "      <td>Semi-supervised Contrastive Learning for Label...</td>\n",
       "      <td>None</td>\n",
       "    </tr>\n",
       "    <tr>\n",
       "      <th>3</th>\n",
       "      <td>fbc8a5ea-90fa-47b8-8fa7-73dd954f1524</td>\n",
       "      <td>fbc8a5ea-90fa-47b8-8fa7-73dd954f1524</td>\n",
       "      <td>fbc8a5ea-90fa-47b8-8fa7-73dd954f1524</td>\n",
       "      <td>human</td>\n",
       "      <td>None</td>\n",
       "      <td>None</td>\n",
       "      <td>none</td>\n",
       "      <td>abstracts</td>\n",
       "      <td>Combo Loss: Handling Input and Output Imbalanc...</td>\n",
       "      <td>None</td>\n",
       "    </tr>\n",
       "    <tr>\n",
       "      <th>4</th>\n",
       "      <td>72c41b8d-0069-4886-b734-a4000ffca286</td>\n",
       "      <td>72c41b8d-0069-4886-b734-a4000ffca286</td>\n",
       "      <td>72c41b8d-0069-4886-b734-a4000ffca286</td>\n",
       "      <td>human</td>\n",
       "      <td>None</td>\n",
       "      <td>None</td>\n",
       "      <td>none</td>\n",
       "      <td>abstracts</td>\n",
       "      <td>Attention-Based 3D Seismic Fault Segmentation ...</td>\n",
       "      <td>None</td>\n",
       "    </tr>\n",
       "    <tr>\n",
       "      <th>5</th>\n",
       "      <td>72fe360b-cce6-4daf-b66a-1d778f5964f8</td>\n",
       "      <td>72fe360b-cce6-4daf-b66a-1d778f5964f8</td>\n",
       "      <td>72fe360b-cce6-4daf-b66a-1d778f5964f8</td>\n",
       "      <td>human</td>\n",
       "      <td>None</td>\n",
       "      <td>None</td>\n",
       "      <td>none</td>\n",
       "      <td>abstracts</td>\n",
       "      <td>Segmenter: Transformer for Semantic Segmentation</td>\n",
       "      <td>None</td>\n",
       "    </tr>\n",
       "    <tr>\n",
       "      <th>6</th>\n",
       "      <td>df594cf4-9a0c-4488-bcb3-68f41e2d5a16</td>\n",
       "      <td>df594cf4-9a0c-4488-bcb3-68f41e2d5a16</td>\n",
       "      <td>df594cf4-9a0c-4488-bcb3-68f41e2d5a16</td>\n",
       "      <td>human</td>\n",
       "      <td>None</td>\n",
       "      <td>None</td>\n",
       "      <td>none</td>\n",
       "      <td>abstracts</td>\n",
       "      <td>Mining Contextual Information Beyond Image for...</td>\n",
       "      <td>None</td>\n",
       "    </tr>\n",
       "    <tr>\n",
       "      <th>7</th>\n",
       "      <td>853c0e51-7dd5-4bb5-8286-e4aa8820173b</td>\n",
       "      <td>853c0e51-7dd5-4bb5-8286-e4aa8820173b</td>\n",
       "      <td>853c0e51-7dd5-4bb5-8286-e4aa8820173b</td>\n",
       "      <td>human</td>\n",
       "      <td>None</td>\n",
       "      <td>None</td>\n",
       "      <td>none</td>\n",
       "      <td>abstracts</td>\n",
       "      <td>Comprehensive Multi-Modal Interactions for Ref...</td>\n",
       "      <td>None</td>\n",
       "    </tr>\n",
       "    <tr>\n",
       "      <th>8</th>\n",
       "      <td>1649f195-8f98-4c79-92b6-54a5ca9261fa</td>\n",
       "      <td>1649f195-8f98-4c79-92b6-54a5ca9261fa</td>\n",
       "      <td>1649f195-8f98-4c79-92b6-54a5ca9261fa</td>\n",
       "      <td>human</td>\n",
       "      <td>None</td>\n",
       "      <td>None</td>\n",
       "      <td>none</td>\n",
       "      <td>abstracts</td>\n",
       "      <td>Few-Shot Segmentation with Global and Local Co...</td>\n",
       "      <td>None</td>\n",
       "    </tr>\n",
       "    <tr>\n",
       "      <th>9</th>\n",
       "      <td>5e23ab14-b85f-48e8-9aa3-15452e73524e</td>\n",
       "      <td>5e23ab14-b85f-48e8-9aa3-15452e73524e</td>\n",
       "      <td>5e23ab14-b85f-48e8-9aa3-15452e73524e</td>\n",
       "      <td>human</td>\n",
       "      <td>None</td>\n",
       "      <td>None</td>\n",
       "      <td>none</td>\n",
       "      <td>abstracts</td>\n",
       "      <td>Efficient and Generic Interactive Segmentation...</td>\n",
       "      <td>None</td>\n",
       "    </tr>\n",
       "  </tbody>\n",
       "</table>\n",
       "</div>"
      ],
      "text/plain": [
       "                                     id                         adv_source_id  \\\n",
       "0  e5e058ce-be2b-459d-af36-32532aaba5ff  e5e058ce-be2b-459d-af36-32532aaba5ff   \n",
       "1  f95b107b-d176-4af5-90f7-4d0bb20caf93  f95b107b-d176-4af5-90f7-4d0bb20caf93   \n",
       "2  856d8972-9e3d-4544-babc-0fe16f21e04d  856d8972-9e3d-4544-babc-0fe16f21e04d   \n",
       "3  fbc8a5ea-90fa-47b8-8fa7-73dd954f1524  fbc8a5ea-90fa-47b8-8fa7-73dd954f1524   \n",
       "4  72c41b8d-0069-4886-b734-a4000ffca286  72c41b8d-0069-4886-b734-a4000ffca286   \n",
       "5  72fe360b-cce6-4daf-b66a-1d778f5964f8  72fe360b-cce6-4daf-b66a-1d778f5964f8   \n",
       "6  df594cf4-9a0c-4488-bcb3-68f41e2d5a16  df594cf4-9a0c-4488-bcb3-68f41e2d5a16   \n",
       "7  853c0e51-7dd5-4bb5-8286-e4aa8820173b  853c0e51-7dd5-4bb5-8286-e4aa8820173b   \n",
       "8  1649f195-8f98-4c79-92b6-54a5ca9261fa  1649f195-8f98-4c79-92b6-54a5ca9261fa   \n",
       "9  5e23ab14-b85f-48e8-9aa3-15452e73524e  5e23ab14-b85f-48e8-9aa3-15452e73524e   \n",
       "\n",
       "                              source_id  model decoding repetition_penalty  \\\n",
       "0  e5e058ce-be2b-459d-af36-32532aaba5ff  human     None               None   \n",
       "1  f95b107b-d176-4af5-90f7-4d0bb20caf93  human     None               None   \n",
       "2  856d8972-9e3d-4544-babc-0fe16f21e04d  human     None               None   \n",
       "3  fbc8a5ea-90fa-47b8-8fa7-73dd954f1524  human     None               None   \n",
       "4  72c41b8d-0069-4886-b734-a4000ffca286  human     None               None   \n",
       "5  72fe360b-cce6-4daf-b66a-1d778f5964f8  human     None               None   \n",
       "6  df594cf4-9a0c-4488-bcb3-68f41e2d5a16  human     None               None   \n",
       "7  853c0e51-7dd5-4bb5-8286-e4aa8820173b  human     None               None   \n",
       "8  1649f195-8f98-4c79-92b6-54a5ca9261fa  human     None               None   \n",
       "9  5e23ab14-b85f-48e8-9aa3-15452e73524e  human     None               None   \n",
       "\n",
       "  attack     domain                                              title prompt  \n",
       "0   none  abstracts  FUTURE-AI: Guiding Principles and Consensus Re...   None  \n",
       "1   none  abstracts  EdgeFlow: Achieving Practical Interactive Segm...   None  \n",
       "2   none  abstracts  Semi-supervised Contrastive Learning for Label...   None  \n",
       "3   none  abstracts  Combo Loss: Handling Input and Output Imbalanc...   None  \n",
       "4   none  abstracts  Attention-Based 3D Seismic Fault Segmentation ...   None  \n",
       "5   none  abstracts   Segmenter: Transformer for Semantic Segmentation   None  \n",
       "6   none  abstracts  Mining Contextual Information Beyond Image for...   None  \n",
       "7   none  abstracts  Comprehensive Multi-Modal Interactions for Ref...   None  \n",
       "8   none  abstracts  Few-Shot Segmentation with Global and Local Co...   None  \n",
       "9   none  abstracts  Efficient and Generic Interactive Segmentation...   None  "
      ]
     },
     "execution_count": 54,
     "metadata": {},
     "output_type": "execute_result"
    }
   ],
   "source": [
    "data.select(range(10)).to_pandas()[[\"id\",\"adv_source_id\",\"source_id\",\"model\",\"decoding\",\"repetition_penalty\",\"attack\",\"domain\",\"title\",\"prompt\"]]"
   ]
  },
  {
   "cell_type": "code",
   "execution_count": null,
   "id": "baf397b7-9c9c-4f37-be50-5449ca303003",
   "metadata": {},
   "outputs": [],
   "source": []
  },
  {
   "cell_type": "code",
   "execution_count": null,
   "id": "a647ddc7-b867-4786-a54c-6ac2581c2147",
   "metadata": {},
   "outputs": [],
   "source": []
  },
  {
   "cell_type": "code",
   "execution_count": null,
   "id": "8548aeb1-4b64-4de8-9880-a2d3837b76e4",
   "metadata": {},
   "outputs": [],
   "source": []
  },
  {
   "cell_type": "code",
   "execution_count": null,
   "id": "e3eaecfa-a019-4d9b-920b-b8ef7ba5beb5",
   "metadata": {},
   "outputs": [],
   "source": []
  },
  {
   "cell_type": "markdown",
   "id": "8dedf0ea-a543-4ea0-bd9d-deefea08ce06",
   "metadata": {},
   "source": [
    "Possible extra feature engineering, usefullness unsure.\n",
    "BERT embeddings + handcrafted features like:\n",
    "- Average sentence length\n",
    "- N-gram repetition\n",
    "- Ratio of stopwords Then feed that into a LightGBM/XGBoost model to compare."
   ]
  },
  {
   "cell_type": "markdown",
   "id": "5fe890e8-15c1-48a9-8f8b-6fc18186526c",
   "metadata": {},
   "source": [
    "# Exploratory Data Analysis (EDA)\n",
    "- Text length distributions\n",
    "- Vocabulary richness (e.g. unique words)\n",
    "- POS tag distribution (maybe AI uses more nouns, fewer adjectives?)\n",
    "- Visualizations: word clouds, frequency plots\n",
    "- Clustering to check for seperability of classes\n",
    "- .\n",
    "- Comparing perplexity charts of AI model text and human text, can help understand the complexity of the task at hand, due to the variety of distributions."
   ]
  },
  {
   "cell_type": "code",
   "execution_count": null,
   "id": "dd734ac7-4a8b-41b9-a9e2-0d4df78adc0e",
   "metadata": {},
   "outputs": [],
   "source": []
  },
  {
   "cell_type": "code",
   "execution_count": null,
   "id": "6026c671-3066-439e-84e3-4704aa4c016f",
   "metadata": {},
   "outputs": [],
   "source": []
  },
  {
   "cell_type": "code",
   "execution_count": null,
   "id": "dc197707-f201-4334-956f-9407a59f6ef1",
   "metadata": {},
   "outputs": [],
   "source": []
  },
  {
   "cell_type": "code",
   "execution_count": null,
   "id": "936ac24b-7fc4-432d-bf6c-cb29f0185e21",
   "metadata": {},
   "outputs": [],
   "source": []
  },
  {
   "cell_type": "markdown",
   "id": "7f028da7-0d04-47d9-b8cb-29baf1198740",
   "metadata": {},
   "source": [
    "# Baseline (TBD)"
   ]
  },
  {
   "cell_type": "markdown",
   "id": "71ed4054-dcf9-4017-810d-f6366a4f7277",
   "metadata": {},
   "source": [
    "- Basic baseline logistic regression etc (Might not be relevant)\n",
    "- Basic Deep learning artitecture\n",
    "- Base BERT\n",
    "- Maybe a basic baseline and a base BERT to see how much performance BERT adds and how much fine-tuned BERT additionally adds."
   ]
  },
  {
   "cell_type": "code",
   "execution_count": null,
   "id": "78583d4d-2092-4719-b170-918f8b1f7fff",
   "metadata": {},
   "outputs": [],
   "source": []
  },
  {
   "cell_type": "code",
   "execution_count": null,
   "id": "9e246f52-45a6-4234-8961-03999f65db0c",
   "metadata": {},
   "outputs": [],
   "source": []
  },
  {
   "cell_type": "code",
   "execution_count": null,
   "id": "9054f3ea-b3c2-46e3-b31b-4bcbfc92c8ef",
   "metadata": {},
   "outputs": [],
   "source": []
  },
  {
   "cell_type": "markdown",
   "id": "d000238b-8464-48b5-822f-9c029dc44695",
   "metadata": {},
   "source": [
    "# BERT fine-tuning to classify text"
   ]
  },
  {
   "cell_type": "markdown",
   "id": "345bf97b-7b78-49ee-94c6-b94adc10f892",
   "metadata": {},
   "source": [
    "- BERT vs RoBERTa vs DistilBERT\n",
    "- RoBERTa often performs better in classification tasks"
   ]
  },
  {
   "cell_type": "code",
   "execution_count": null,
   "id": "152944cd-2bcb-4bac-a4db-b9ee66db9818",
   "metadata": {},
   "outputs": [],
   "source": []
  },
  {
   "cell_type": "code",
   "execution_count": null,
   "id": "81af2f3b-a631-4c45-8cbd-d52411bfa0fa",
   "metadata": {},
   "outputs": [],
   "source": []
  },
  {
   "cell_type": "code",
   "execution_count": null,
   "id": "add36150-29da-4847-8bd5-7c04163d7483",
   "metadata": {},
   "outputs": [],
   "source": []
  },
  {
   "cell_type": "markdown",
   "id": "e1477b62-929b-4b20-b833-a280b1c444ab",
   "metadata": {},
   "source": [
    "# Error Analysis / Robustness Testing"
   ]
  },
  {
   "cell_type": "markdown",
   "id": "829dd137-e806-4c8b-af04-94669f037fba",
   "metadata": {},
   "source": [
    "- What types of errors does it make confusion matrix?\n",
    "- Is the model biased toward longer/shorter texts?\n",
    "- Attention analysis (using tools like BertViz)\n",
    "- Check if BERT overfits to text length or formatting\n",
    "- Does it misclassify texts on certain topics?\n",
    "- Could it unfairly flag texts written by non-native speakers?\n",
    "- Does it perform better on specific outpurs from specific models?\n",
    "- Small edits (punctuation, synonyms) and how does they affect the model?\n",
    "- Test synonym replacements (e.g., \"happy\" → \"joyful\") with slight paraphrasing"
   ]
  },
  {
   "cell_type": "code",
   "execution_count": null,
   "id": "4e7f6e90-7bb1-4256-9c3e-bce884aaea41",
   "metadata": {},
   "outputs": [],
   "source": []
  },
  {
   "cell_type": "code",
   "execution_count": null,
   "id": "724d410c-451a-43e2-92ef-414fc48a956a",
   "metadata": {},
   "outputs": [],
   "source": []
  },
  {
   "cell_type": "code",
   "execution_count": null,
   "id": "2715e307-299a-4354-ab8d-ee7c29aed543",
   "metadata": {},
   "outputs": [],
   "source": []
  },
  {
   "cell_type": "markdown",
   "id": "12d66bc6-3d03-455f-8ccb-b5cf79e5a580",
   "metadata": {},
   "source": [
    "# Explainability"
   ]
  },
  {
   "cell_type": "markdown",
   "id": "eaf75932-d9fe-4700-abfe-04ab5500b6dd",
   "metadata": {},
   "source": [
    "- Attention Heatmap (with bertviz or transformers-interpret)\n",
    "- Visualize token importance\n",
    "- SHAP map"
   ]
  },
  {
   "cell_type": "code",
   "execution_count": null,
   "id": "0df4d10b-2190-4c73-b548-c06281947120",
   "metadata": {},
   "outputs": [],
   "source": []
  },
  {
   "cell_type": "code",
   "execution_count": null,
   "id": "2a2066bf-9995-4734-98c6-bbb653d11c79",
   "metadata": {},
   "outputs": [],
   "source": []
  },
  {
   "cell_type": "code",
   "execution_count": null,
   "id": "8459c6d0-f57a-4062-ad81-24a2141a09ac",
   "metadata": {},
   "outputs": [],
   "source": []
  },
  {
   "cell_type": "markdown",
   "id": "277951af-76de-4751-b998-5717817c8151",
   "metadata": {},
   "source": [
    "# (Option extra if time allows) Own trained text generator, compare its outputs predictions to the ones from other models"
   ]
  },
  {
   "cell_type": "code",
   "execution_count": null,
   "id": "e2764aa2-5217-4e66-8405-3e8391f5f2aa",
   "metadata": {},
   "outputs": [],
   "source": []
  },
  {
   "cell_type": "code",
   "execution_count": null,
   "id": "b3ee3f47-51e9-4ae0-8fa2-7c1cb1d647cb",
   "metadata": {},
   "outputs": [],
   "source": []
  },
  {
   "cell_type": "code",
   "execution_count": null,
   "id": "c2bd5d30-84ec-4c73-a485-b307e16e5558",
   "metadata": {},
   "outputs": [],
   "source": []
  },
  {
   "cell_type": "code",
   "execution_count": null,
   "id": "cb8fed95-cfab-4303-96e2-5bed8d1ef414",
   "metadata": {},
   "outputs": [],
   "source": []
  },
  {
   "cell_type": "code",
   "execution_count": null,
   "id": "7bed6a00-f7a0-4659-a820-0d5ed8ea83f7",
   "metadata": {},
   "outputs": [],
   "source": []
  },
  {
   "cell_type": "code",
   "execution_count": null,
   "id": "01c95665-c453-421d-8bf5-59e0ddfa6ead",
   "metadata": {},
   "outputs": [],
   "source": []
  },
  {
   "cell_type": "code",
   "execution_count": null,
   "id": "09ccebfe-a932-4e7c-8c97-5f1bb0b67396",
   "metadata": {},
   "outputs": [],
   "source": []
  },
  {
   "cell_type": "code",
   "execution_count": null,
   "id": "e5ff2090-2543-42c6-aa6d-cae5bebb20c1",
   "metadata": {},
   "outputs": [],
   "source": []
  }
 ],
 "metadata": {
  "kernelspec": {
   "display_name": "Python 3 (ipykernel)",
   "language": "python",
   "name": "python3"
  },
  "language_info": {
   "codemirror_mode": {
    "name": "ipython",
    "version": 3
   },
   "file_extension": ".py",
   "mimetype": "text/x-python",
   "name": "python",
   "nbconvert_exporter": "python",
   "pygments_lexer": "ipython3",
   "version": "3.12.7"
  }
 },
 "nbformat": 4,
 "nbformat_minor": 5
}
