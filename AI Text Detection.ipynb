{
 "cells": [
  {
   "cell_type": "code",
   "execution_count": 1,
   "id": "81b61c49-6a02-4cb0-bc98-d8047c811f39",
   "metadata": {},
   "outputs": [],
   "source": [
    "import numpy as np\n",
    "import pandas as pd\n",
    "import matplotlib.pyplot as plt"
   ]
  },
  {
   "cell_type": "markdown",
   "id": "9186ad94-a09a-473a-816a-eed71cbef135",
   "metadata": {},
   "source": [
    "TO DO:\n",
    "- Dataset Loading/Choosing ✅\n",
    "- Dataset Cleaning\n",
    "- Exploratory Data Analysis\n",
    "- Baseline (TBD)\n",
    "- BERT fine-tuning to classify text\n",
    "- Error Analysis / Robustness Testing"
   ]
  },
  {
   "cell_type": "markdown",
   "id": "d0b940e4-3dec-4b17-85f0-1640aa493b87",
   "metadata": {},
   "source": [
    "# Dataset Loading/Choosing"
   ]
  },
  {
   "cell_type": "markdown",
   "id": "bfe024d4-b838-464c-9534-e1f50d100ead",
   "metadata": {},
   "source": [
    "- LLM - Detect AI Generated Text Dataset (28k essays)\n",
    "https://www.kaggle.com/datasets/sunilthite/llm-detect-ai-generated-text-dataset.\n",
    "- Dataset Card for AI Text Dectection Pile (1.4mil essays)\n",
    "https://huggingface.co/datasets/artem9k/ai-text-detection-pile\n"
   ]
  },
  {
   "cell_type": "code",
   "execution_count": null,
   "id": "eb2c0b33-242f-4427-b6ef-46123dc00428",
   "metadata": {},
   "outputs": [],
   "source": []
  },
  {
   "cell_type": "markdown",
   "id": "14b977d1-2d8e-4d03-97da-a57ae83965e2",
   "metadata": {},
   "source": [
    "# Dataset Cleaning"
   ]
  },
  {
   "cell_type": "markdown",
   "id": "50c3e571-6241-4044-bb03-1a97bd5e03d0",
   "metadata": {},
   "source": [
    "- Lowercasing (optional with BERT since it's often case-aware depending on the model)\n",
    "- Removing HTML tags, extra spaces\n",
    "- Filtering by length (exclude very short texts)\n",
    "- Removing duplicates\n",
    "- Language detection if you need only English\n",
    "- Where possible tag which model AI text is from"
   ]
  },
  {
   "cell_type": "code",
   "execution_count": null,
   "id": "35f0834a-d1aa-466f-9d6a-56a225e6dc9e",
   "metadata": {},
   "outputs": [],
   "source": []
  },
  {
   "cell_type": "code",
   "execution_count": null,
   "id": "96533af8-05d5-46d8-b024-40018ad75e82",
   "metadata": {},
   "outputs": [],
   "source": []
  },
  {
   "cell_type": "code",
   "execution_count": null,
   "id": "e3eaecfa-a019-4d9b-920b-b8ef7ba5beb5",
   "metadata": {},
   "outputs": [],
   "source": []
  },
  {
   "cell_type": "markdown",
   "id": "8dedf0ea-a543-4ea0-bd9d-deefea08ce06",
   "metadata": {},
   "source": [
    "Possible extra feature engineering, usefullness unsure.\n",
    "BERT embeddings + handcrafted features like:\n",
    "- Average sentence length\n",
    "- Readability scores (Flesch-Kincaid)\n",
    "- N-gram repetition\n",
    "- Ratio of stopwords Then feed that into a LightGBM/XGBoost model to compare.\n",
    "\n"
   ]
  },
  {
   "cell_type": "markdown",
   "id": "5fe890e8-15c1-48a9-8f8b-6fc18186526c",
   "metadata": {},
   "source": [
    "# Exploratory Data Analysis (EDA)\n",
    "- Text length distributions\n",
    "- Vocabulary richness (e.g. unique words)\n",
    "- POS tag distribution (maybe AI uses more nouns, fewer adjectives?)\n",
    "- Visualizations: word clouds, frequency plots\n",
    "- Clustering to check for seperability of classes"
   ]
  },
  {
   "cell_type": "code",
   "execution_count": null,
   "id": "dd734ac7-4a8b-41b9-a9e2-0d4df78adc0e",
   "metadata": {},
   "outputs": [],
   "source": []
  },
  {
   "cell_type": "code",
   "execution_count": null,
   "id": "6026c671-3066-439e-84e3-4704aa4c016f",
   "metadata": {},
   "outputs": [],
   "source": []
  },
  {
   "cell_type": "code",
   "execution_count": null,
   "id": "dc197707-f201-4334-956f-9407a59f6ef1",
   "metadata": {},
   "outputs": [],
   "source": []
  },
  {
   "cell_type": "code",
   "execution_count": null,
   "id": "936ac24b-7fc4-432d-bf6c-cb29f0185e21",
   "metadata": {},
   "outputs": [],
   "source": []
  },
  {
   "cell_type": "markdown",
   "id": "7f028da7-0d04-47d9-b8cb-29baf1198740",
   "metadata": {},
   "source": [
    "# Baseline (TBD)"
   ]
  },
  {
   "cell_type": "markdown",
   "id": "71ed4054-dcf9-4017-810d-f6366a4f7277",
   "metadata": {},
   "source": [
    "- Basic baseline logistic regression etc (Might not be relevant)\n",
    "- Basic Deep learning artitecture\n",
    "- Base BERT\n",
    "- Maybe a basic baseline and a base BERT to see how much performance BERT adds and how much fine-tuned BERT additionally adds."
   ]
  },
  {
   "cell_type": "code",
   "execution_count": null,
   "id": "78583d4d-2092-4719-b170-918f8b1f7fff",
   "metadata": {},
   "outputs": [],
   "source": []
  },
  {
   "cell_type": "code",
   "execution_count": null,
   "id": "9e246f52-45a6-4234-8961-03999f65db0c",
   "metadata": {},
   "outputs": [],
   "source": []
  },
  {
   "cell_type": "code",
   "execution_count": null,
   "id": "9054f3ea-b3c2-46e3-b31b-4bcbfc92c8ef",
   "metadata": {},
   "outputs": [],
   "source": []
  },
  {
   "cell_type": "markdown",
   "id": "d000238b-8464-48b5-822f-9c029dc44695",
   "metadata": {},
   "source": [
    "# BERT fine-tuning to classify text"
   ]
  },
  {
   "cell_type": "markdown",
   "id": "345bf97b-7b78-49ee-94c6-b94adc10f892",
   "metadata": {},
   "source": [
    "- BERT vs RoBERTa vs DistilBERT\n",
    "- RoBERTa often performs better in classification tasks"
   ]
  },
  {
   "cell_type": "code",
   "execution_count": null,
   "id": "152944cd-2bcb-4bac-a4db-b9ee66db9818",
   "metadata": {},
   "outputs": [],
   "source": []
  },
  {
   "cell_type": "code",
   "execution_count": null,
   "id": "81af2f3b-a631-4c45-8cbd-d52411bfa0fa",
   "metadata": {},
   "outputs": [],
   "source": []
  },
  {
   "cell_type": "code",
   "execution_count": null,
   "id": "add36150-29da-4847-8bd5-7c04163d7483",
   "metadata": {},
   "outputs": [],
   "source": []
  },
  {
   "cell_type": "markdown",
   "id": "e1477b62-929b-4b20-b833-a280b1c444ab",
   "metadata": {},
   "source": [
    "# Error Analysis / Robustness Testing"
   ]
  },
  {
   "cell_type": "markdown",
   "id": "829dd137-e806-4c8b-af04-94669f037fba",
   "metadata": {},
   "source": [
    "- What types of errors does it make confusion matrix?\n",
    "- Is the model biased toward longer/shorter texts?\n",
    "- Attention analysis (using tools like BertViz)\n",
    "- Check if BERT overfits to text length or formatting\n",
    "- Does it misclassify texts on certain topics?\n",
    "- Could it unfairly flag texts written by non-native speakers?\n",
    "- Does it perform better on specific outpurs from specific models?\n",
    "- Small edits (punctuation, synonyms) and how does they affect the model?\n",
    "- Test synonym replacements (e.g., \"happy\" → \"joyful\") with slight paraphrasing"
   ]
  },
  {
   "cell_type": "code",
   "execution_count": null,
   "id": "4e7f6e90-7bb1-4256-9c3e-bce884aaea41",
   "metadata": {},
   "outputs": [],
   "source": []
  },
  {
   "cell_type": "code",
   "execution_count": null,
   "id": "724d410c-451a-43e2-92ef-414fc48a956a",
   "metadata": {},
   "outputs": [],
   "source": []
  },
  {
   "cell_type": "code",
   "execution_count": null,
   "id": "2715e307-299a-4354-ab8d-ee7c29aed543",
   "metadata": {},
   "outputs": [],
   "source": []
  },
  {
   "cell_type": "markdown",
   "id": "12d66bc6-3d03-455f-8ccb-b5cf79e5a580",
   "metadata": {},
   "source": [
    "# Explainability"
   ]
  },
  {
   "cell_type": "markdown",
   "id": "eaf75932-d9fe-4700-abfe-04ab5500b6dd",
   "metadata": {},
   "source": [
    "- Attention Heatmap (with bertviz or transformers-interpret)\n",
    "- Visualize token importance\n",
    "- SHAP map"
   ]
  },
  {
   "cell_type": "code",
   "execution_count": null,
   "id": "0df4d10b-2190-4c73-b548-c06281947120",
   "metadata": {},
   "outputs": [],
   "source": []
  },
  {
   "cell_type": "code",
   "execution_count": null,
   "id": "2a2066bf-9995-4734-98c6-bbb653d11c79",
   "metadata": {},
   "outputs": [],
   "source": []
  },
  {
   "cell_type": "code",
   "execution_count": null,
   "id": "8459c6d0-f57a-4062-ad81-24a2141a09ac",
   "metadata": {},
   "outputs": [],
   "source": []
  },
  {
   "cell_type": "markdown",
   "id": "277951af-76de-4751-b998-5717817c8151",
   "metadata": {},
   "source": [
    "# (Option extra if time allows) Own trained text generator, compare its outputs predictions to the ones from other models"
   ]
  },
  {
   "cell_type": "code",
   "execution_count": null,
   "id": "e2764aa2-5217-4e66-8405-3e8391f5f2aa",
   "metadata": {},
   "outputs": [],
   "source": []
  },
  {
   "cell_type": "code",
   "execution_count": null,
   "id": "b3ee3f47-51e9-4ae0-8fa2-7c1cb1d647cb",
   "metadata": {},
   "outputs": [],
   "source": []
  },
  {
   "cell_type": "code",
   "execution_count": null,
   "id": "c2bd5d30-84ec-4c73-a485-b307e16e5558",
   "metadata": {},
   "outputs": [],
   "source": []
  },
  {
   "cell_type": "code",
   "execution_count": null,
   "id": "cb8fed95-cfab-4303-96e2-5bed8d1ef414",
   "metadata": {},
   "outputs": [],
   "source": []
  },
  {
   "cell_type": "code",
   "execution_count": null,
   "id": "7bed6a00-f7a0-4659-a820-0d5ed8ea83f7",
   "metadata": {},
   "outputs": [],
   "source": []
  },
  {
   "cell_type": "code",
   "execution_count": null,
   "id": "01c95665-c453-421d-8bf5-59e0ddfa6ead",
   "metadata": {},
   "outputs": [],
   "source": []
  },
  {
   "cell_type": "code",
   "execution_count": null,
   "id": "09ccebfe-a932-4e7c-8c97-5f1bb0b67396",
   "metadata": {},
   "outputs": [],
   "source": []
  },
  {
   "cell_type": "code",
   "execution_count": null,
   "id": "e5ff2090-2543-42c6-aa6d-cae5bebb20c1",
   "metadata": {},
   "outputs": [],
   "source": []
  }
 ],
 "metadata": {
  "kernelspec": {
   "display_name": "Python 3 (ipykernel)",
   "language": "python",
   "name": "python3"
  },
  "language_info": {
   "codemirror_mode": {
    "name": "ipython",
    "version": 3
   },
   "file_extension": ".py",
   "mimetype": "text/x-python",
   "name": "python",
   "nbconvert_exporter": "python",
   "pygments_lexer": "ipython3",
   "version": "3.12.7"
  }
 },
 "nbformat": 4,
 "nbformat_minor": 5
}
